{
  "nbformat": 4,
  "nbformat_minor": 0,
  "metadata": {
    "colab": {
      "name": " Exercise 2.ipynb",
      "provenance": [],
      "collapsed_sections": [],
      "authorship_tag": "ABX9TyNxzL9nibnixe4DK3f2Tvux",
      "include_colab_link": true
    },
    "kernelspec": {
      "name": "python3",
      "display_name": "Python 3"
    },
    "language_info": {
      "name": "python"
    }
  },
  "cells": [
    {
      "cell_type": "markdown",
      "metadata": {
        "id": "view-in-github",
        "colab_type": "text"
      },
      "source": [
        "<a href=\"https://colab.research.google.com/github/sjdoescoding/CE156-Assignment/blob/main/Exercise%202/%20Final%20Exercise_2.ipynb\" target=\"_parent\"><img src=\"https://colab.research.google.com/assets/colab-badge.svg\" alt=\"Open In Colab\"/></a>"
      ]
    },
    {
      "cell_type": "markdown",
      "metadata": {
        "id": "3UlNkG9wrnR5"
      },
      "source": [
        "#Exercise 2\n",
        "Write a function that returns a list of the prime numbers between two positive integers supplied as arguments. Use this in a program that asks the user to supply two positive intergers, checks that the input is valid, then calls the function and outputs the numbers in the returned list, with 10 numbers per output line.\n",
        "\n",
        "If the user enters negative numbers or supplies non-numeric input the program should output an appropriate error message; the two numbers should be accepted in either order. The range should be inclusive; if the user inputs 103 and 1009 (or 1009 and 103) these two numbers (which are both prime should be included in the output)"
      ]
    },
    {
      "cell_type": "code",
      "metadata": {
        "colab": {
          "base_uri": "https://localhost:8080/"
        },
        "id": "IHkITpOMrl2Z",
        "outputId": "db9df074-6142-4112-f3ed-54a940887230"
      },
      "source": [
        "# Output: Print a list of prime numbers between two positive integers from which are supplied as arguments in a function\n",
        "# Input: Two positive integers as in function parameters\n",
        "# Checks: 1. Input is valid, 2. returns a list with 10 numbers per output line, 3. Range is inclusive, integers starting with prime numbers are shown\n",
        "# Error: Message should show if input is a negative number or non-numeric\n",
        "\n",
        "try:\n",
        "  \n",
        "  # Asks user for 2 positive value inputs\n",
        "  pos1 = int(input(\"Please enter a positive value \"))\n",
        "  pos2 = int(input(\"Please enter a positive value \"))\n",
        "\n",
        "  lst1 = [] # Initialize empty list to return output\n",
        "\n",
        "  def is_prime(pos1,pos2): # Function to that takes positive integers as parameters\n",
        "\n",
        "      # if statement that checks if the input is a negative, if either pos1 or pos2 are negative, then print message\n",
        "      if (pos1 < 0) or (pos2 < 0):\n",
        "        print(\"Negative input entered, please input two positive values\")\n",
        "\n",
        "      # elif statement that takes a lower and then upper input\n",
        "      elif pos1 < pos2: \n",
        "            #Algorithm that checks if pos1 input is a prime number, if prime number it'll be appended to lst1\n",
        "            for i in range(pos1, pos2+1):  \n",
        "                if i > 1:  \n",
        "                    for j in range(2,i):  \n",
        "                        if (i % j == 0):  \n",
        "                            break  \n",
        "                    else:  \n",
        "                        lst1.append(i)\n",
        "\n",
        "            # Loop enumrates over lst1 which contains the list of prime numbers\n",
        "            ## if indices (x) reach 10, then prints the next output on new line\n",
        "            for x, a in enumerate(lst1):\n",
        "              print(a, end=\", \")\n",
        "              x += 1\n",
        "              if x % 10 == 0:\n",
        "                print('\\n')\n",
        "      # else statement if upper input is assigned first before positive input\n",
        "      else:\n",
        "            #Algorithm that returns the list output in reverse and appends the list to lst1\n",
        "            for i in range(pos1, pos2-1, -1): # post2 input is assigned -1 to display last value of list index, -1 step to reverse the output of the list\n",
        "                if i > 1:  \n",
        "                    for j in range(2,i):  \n",
        "                        if (i % j == 0):  \n",
        "                            break  \n",
        "                    else:  \n",
        "                        lst1.append(i)\n",
        "            # Loop enumrates over lst1 which contains the list of prime numbers\n",
        "            ## if indices (x) reach 10, then prints the next output on new line\n",
        "            for x, a in enumerate(lst1):\n",
        "              print(a, end=\", \")\n",
        "              x += 1\n",
        "              if x % 10 == 0:\n",
        "                print('\\n')\n",
        "  \n",
        "\n",
        "  is_prime(pos1, pos2) \n",
        "\n",
        "## Raise ValueError if input is not valid or format is incorrect\n",
        "except ValueError:\n",
        "    raise print(\"Invalid input, please enter two positive values\")"
      ],
      "execution_count": 43,
      "outputs": [
        {
          "output_type": "stream",
          "name": "stdout",
          "text": [
            "Please enter a positive value 1009\n",
            "Please enter a positive value 103\n",
            "1009, 997, 991, 983, 977, 971, 967, 953, 947, 941, \n",
            "\n",
            "937, 929, 919, 911, 907, 887, 883, 881, 877, 863, \n",
            "\n",
            "859, 857, 853, 839, 829, 827, 823, 821, 811, 809, \n",
            "\n",
            "797, 787, 773, 769, 761, 757, 751, 743, 739, 733, \n",
            "\n",
            "727, 719, 709, 701, 691, 683, 677, 673, 661, 659, \n",
            "\n",
            "653, 647, 643, 641, 631, 619, 617, 613, 607, 601, \n",
            "\n",
            "599, 593, 587, 577, 571, 569, 563, 557, 547, 541, \n",
            "\n",
            "523, 521, 509, 503, 499, 491, 487, 479, 467, 463, \n",
            "\n",
            "461, 457, 449, 443, 439, 433, 431, 421, 419, 409, \n",
            "\n",
            "401, 397, 389, 383, 379, 373, 367, 359, 353, 349, \n",
            "\n",
            "347, 337, 331, 317, 313, 311, 307, 293, 283, 281, \n",
            "\n",
            "277, 271, 269, 263, 257, 251, 241, 239, 233, 229, \n",
            "\n",
            "227, 223, 211, 199, 197, 193, 191, 181, 179, 173, \n",
            "\n",
            "167, 163, 157, 151, 149, 139, 137, 131, 127, 113, \n",
            "\n",
            "109, 107, 103, "
          ]
        }
      ]
    }
  ]
}