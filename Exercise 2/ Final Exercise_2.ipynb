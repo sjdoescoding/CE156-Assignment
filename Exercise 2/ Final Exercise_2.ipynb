{
  "nbformat": 4,
  "nbformat_minor": 0,
  "metadata": {
    "colab": {
      "name": " Exercise 2.ipynb",
      "provenance": [],
      "collapsed_sections": [],
      "authorship_tag": "ABX9TyN0ShpYiGQ4k48qrUCuDQJJ",
      "include_colab_link": true
    },
    "kernelspec": {
      "name": "python3",
      "display_name": "Python 3"
    },
    "language_info": {
      "name": "python"
    }
  },
  "cells": [
    {
      "cell_type": "markdown",
      "metadata": {
        "id": "view-in-github",
        "colab_type": "text"
      },
      "source": [
        "<a href=\"https://colab.research.google.com/github/sjdoescoding/CE156-Assignment/blob/main/Exercise%202/%20Final%20Exercise_2.ipynb\" target=\"_parent\"><img src=\"https://colab.research.google.com/assets/colab-badge.svg\" alt=\"Open In Colab\"/></a>"
      ]
    },
    {
      "cell_type": "markdown",
      "metadata": {
        "id": "3UlNkG9wrnR5"
      },
      "source": [
        "#Exercise 2\n",
        "Write a function that returns a list of the prime numbers between two positive integers supplied as arguments. Use this in a program that asks the user to supply two positive intergers, checks that the input is valid, then calls the function and outputs the numbers in the returned list, with 10 numbers per output line.\n",
        "\n",
        "If the user enters negative numbers or supplies non-numeric input the program should output an appropriate error message; the two numbers should be accepted in either order. The range should be inclusive; if the user inputs 103 and 1009 (or 1009 and 103) these two numbers (which are both prime should be included in the output)"
      ]
    },
    {
      "cell_type": "code",
      "metadata": {
        "colab": {
          "base_uri": "https://localhost:8080/"
        },
        "id": "IHkITpOMrl2Z",
        "outputId": "ddfea501-dd5e-47a6-a1d4-91dd81147db8"
      },
      "source": [
        "# Output: Print a list of prime numbers between two positive integers from which are supplied as arguments in a function\n",
        "# Input: Two positive integers as in function parameters\n",
        "# Checks: 1. Input is valid, 2. returns a list with 10 numbers per output line, 3. Range is inclusive, integers starting with prime numbers are shown\n",
        "# Error: Message should show if input is a negative number or non-numeric\n",
        "\n",
        "\n",
        "\n",
        "try:\n",
        "  pos1, pos2 = map(int,input(\"Enter two positive values: \").split(\" \")) # Takes user input for 2 positive integers, split method takes input as list with a space\n",
        "  \n",
        "  lst1 = [] # Initialize empty list to return output\n",
        "\n",
        "\n",
        "  def is_prime(pos1,pos2): # Function to that takes positive integers as parameters\n",
        "      if pos1 < pos2: # if statement that takes a lower and then upper input\n",
        "            #Algorithm that checks if pos1 input is a prime number, if prime number it'll be appended to lst1\n",
        "            for i in range(pos1, pos2+1):  \n",
        "                if i > 1:  \n",
        "                    for j in range(2,i):  \n",
        "                        if (i % j == 0):  \n",
        "                            break  \n",
        "                    else:  \n",
        "                        lst1.append(i)\n",
        "            # Loop enumrates over lst1 which contains the list of prime numbers\n",
        "            ## if indices (x) reach 10, then prints the next output on new line\n",
        "            for x, a in enumerate(lst1):\n",
        "              print(a, end=\", \")\n",
        "              x += 1\n",
        "              if x % 10 == 0:\n",
        "                print('\\n')\n",
        "\n",
        "      else: # else statement if upper input is assigned first before positive input\n",
        "            #Similar algorithm like above, that returns the list output in reverse and appends the list to lst1\n",
        "            for i in range(pos1, pos2-1, -1): # post2 input is assigned -1 to display last value of list index\n",
        "                if i > 1:  \n",
        "                    for j in range(2,i):  \n",
        "                        if (i % j == 0):  \n",
        "                            break  \n",
        "                    else:  \n",
        "                        lst1.append(i)\n",
        "            # Loop enumrates over lst1 which contains the list of prime numbers\n",
        "            ## if indices (x) reach 10, then prints the next output on new line\n",
        "            for x, a in enumerate(lst1):\n",
        "              print(a, end=\", \")\n",
        "              x += 1\n",
        "              if x % 10 == 0:\n",
        "                print('\\n')\n",
        "  \n",
        "\n",
        "  is_prime(pos1, pos2) #Calls the function \n",
        "\n",
        "except:\n",
        "    print(\"Invalid input, please enter two positive values with a space inbetween\")"
      ],
      "execution_count": 4,
      "outputs": [
        {
          "output_type": "stream",
          "name": "stdout",
          "text": [
            "Enter two positive values: 1998 103\n",
            "1997, 1993, 1987, 1979, 1973, 1951, 1949, 1933, 1931, 1913, \n",
            "\n",
            "1907, 1901, 1889, 1879, 1877, 1873, 1871, 1867, 1861, 1847, \n",
            "\n",
            "1831, 1823, 1811, 1801, 1789, 1787, 1783, 1777, 1759, 1753, \n",
            "\n",
            "1747, 1741, 1733, 1723, 1721, 1709, 1699, 1697, 1693, 1669, \n",
            "\n",
            "1667, 1663, 1657, 1637, 1627, 1621, 1619, 1613, 1609, 1607, \n",
            "\n",
            "1601, 1597, 1583, 1579, 1571, 1567, 1559, 1553, 1549, 1543, \n",
            "\n",
            "1531, 1523, 1511, 1499, 1493, 1489, 1487, 1483, 1481, 1471, \n",
            "\n",
            "1459, 1453, 1451, 1447, 1439, 1433, 1429, 1427, 1423, 1409, \n",
            "\n",
            "1399, 1381, 1373, 1367, 1361, 1327, 1321, 1319, 1307, 1303, \n",
            "\n",
            "1301, 1297, 1291, 1289, 1283, 1279, 1277, 1259, 1249, 1237, \n",
            "\n",
            "1231, 1229, 1223, 1217, 1213, 1201, 1193, 1187, 1181, 1171, \n",
            "\n",
            "1163, 1153, 1151, 1129, 1123, 1117, 1109, 1103, 1097, 1093, \n",
            "\n",
            "1091, 1087, 1069, 1063, 1061, 1051, 1049, 1039, 1033, 1031, \n",
            "\n",
            "1021, 1019, 1013, 1009, 997, 991, 983, 977, 971, 967, \n",
            "\n",
            "953, 947, 941, 937, 929, 919, 911, 907, 887, 883, \n",
            "\n",
            "881, 877, 863, 859, 857, 853, 839, 829, 827, 823, \n",
            "\n",
            "821, 811, 809, 797, 787, 773, 769, 761, 757, 751, \n",
            "\n",
            "743, 739, 733, 727, 719, 709, 701, 691, 683, 677, \n",
            "\n",
            "673, 661, 659, 653, 647, 643, 641, 631, 619, 617, \n",
            "\n",
            "613, 607, 601, 599, 593, 587, 577, 571, 569, 563, \n",
            "\n",
            "557, 547, 541, 523, 521, 509, 503, 499, 491, 487, \n",
            "\n",
            "479, 467, 463, 461, 457, 449, 443, 439, 433, 431, \n",
            "\n",
            "421, 419, 409, 401, 397, 389, 383, 379, 373, 367, \n",
            "\n",
            "359, 353, 349, 347, 337, 331, 317, 313, 311, 307, \n",
            "\n",
            "293, 283, 281, 277, 271, 269, 263, 257, 251, 241, \n",
            "\n",
            "239, 233, 229, 227, 223, 211, 199, 197, 193, 191, \n",
            "\n",
            "181, 179, 173, 167, 163, 157, 151, 149, 139, 137, \n",
            "\n",
            "131, 127, 113, 109, 107, 103, "
          ]
        }
      ]
    }
  ]
}