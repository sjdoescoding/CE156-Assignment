{
  "nbformat": 4,
  "nbformat_minor": 0,
  "metadata": {
    "colab": {
      "name": "Copy of CE156 Assignment Exercise 1.ipynb",
      "provenance": [],
      "authorship_tag": "ABX9TyOKBq0UrB7AdoxExLOoraSd",
      "include_colab_link": true
    },
    "kernelspec": {
      "name": "python3",
      "display_name": "Python 3"
    },
    "language_info": {
      "name": "python"
    }
  },
  "cells": [
    {
      "cell_type": "markdown",
      "metadata": {
        "id": "view-in-github",
        "colab_type": "text"
      },
      "source": [
        "<a href=\"https://colab.research.google.com/github/sjdoescoding/CE156-Assignment/blob/main/Exercise%201/%20Copy_of_CE156_Assignment_Exercise_1.ipynb\" target=\"_parent\"><img src=\"https://colab.research.google.com/assets/colab-badge.svg\" alt=\"Open In Colab\"/></a>"
      ]
    },
    {
      "cell_type": "markdown",
      "metadata": {
        "id": "NEmA4cFtAp8c"
      },
      "source": [
        "# Exercise 1\n",
        "Write a program that asks the user to input his/her date of birth in the format dd/mm/yyyy\n",
        "\n",
        "If the input is not in the correct format or the date is invalid, the program should output an appropriate error message. If the input is valid date the program should calculate and output the user's age (You will need to check whether the user has had a birthday this year, e.g. someone born on 01/11/2000 will be 21 on 16 December 2021, but someone born on 25/12/2000 will still be 20). The program should additionally output a \"Happy Birthday\" message if it is the user's birthday today.\n",
        "\n",
        "To calculate age you will need to obtain today's date; to do this using the line from datetime import date and then use date.today() to obtain a date object containing today's date. You can access the day, month and year of a date d using d.day,d.month and d.year (all integer values)"
      ]
    },
    {
      "cell_type": "code",
      "metadata": {
        "id": "pn5OJQoe_X8i",
        "colab": {
          "base_uri": "https://localhost:8080/"
        },
        "outputId": "92a39890-6c36-45ca-ff1f-6662896d5494"
      },
      "source": [
        "from datetime import date\n",
        "\n",
        "\n",
        "\n",
        "# Formula to calculate somebody's age = Current date/month/year - Birthday (date/month/year)\n",
        "# Output: Display user's age based off their birthday, if it is their birthday then wish user \"Happy Birthday\"\n",
        "\n",
        "# Initialize today's date\n",
        "today = date.today()\n",
        "\n",
        "## Take user input as dd/mm/yyyy\n",
        "birthday = input(\"What is your Birthday? (in DD/MM/YYYY) \")  \n",
        "\n",
        "## first function checks user's input if dd/mm matches current dd/mm, if match is found then output birthday message\n",
        "def bdayMessage(birthday):\n",
        "  if birthday == today:\n",
        "    print(\"Happy Birthday\")\n",
        "  else:\n",
        "    print(\"It is not your birthday today :(\")\n",
        "  \n",
        "\n",
        "# ## second function checks subtracts user's input from today's date, returning age\n",
        "# def displayAge(birthday):\n",
        "#   today = datetime.date.today(birthday)\n",
        "#   age = today.year - birthday.year - ((today.month, today.day) < (birthday.month, birthday.day))\n",
        "#   return age\n",
        "# ## Output message: User's age and how many days old they are.\n",
        "\n",
        "# # print(date.today())\n",
        "# checkBday(birthday)\n",
        "\n",
        "bdayMessage(birthday)"
      ],
      "execution_count": null,
      "outputs": [
        {
          "output_type": "stream",
          "name": "stdout",
          "text": [
            "What is your Birthday? (in DD/MM/YYYY) 15/05/1998\n",
            "It is not your birthday today :(\n"
          ]
        }
      ]
    },
    {
      "cell_type": "code",
      "metadata": {
        "id": "AAyO_10Rtpxx",
        "colab": {
          "base_uri": "https://localhost:8080/"
        },
        "outputId": "bc076800-0350-4935-80d2-811db70138db"
      },
      "source": [
        "#importing datetime class  \n",
        "import datetime  \n",
        "  \n",
        "#getting today's date and saving in CurrentDate Variable  \n",
        "CurrentDate=datetime.date.today()  \n",
        "  \n",
        "#prining current date from CurrentDate  \n",
        "print(CurrentDate)  \n"
      ],
      "execution_count": null,
      "outputs": [
        {
          "output_type": "stream",
          "name": "stdout",
          "text": [
            "2021-12-03\n"
          ]
        }
      ]
    }
  ]
}