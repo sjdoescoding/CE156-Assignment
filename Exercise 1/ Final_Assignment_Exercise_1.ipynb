{
  "nbformat": 4,
  "nbformat_minor": 0,
  "metadata": {
    "colab": {
      "name": "Copy of Final Assignment Exercise 1.ipynb",
      "provenance": [],
      "collapsed_sections": [],
      "authorship_tag": "ABX9TyOD9/3WhIP+l/iBJuBVyhke",
      "include_colab_link": true
    },
    "kernelspec": {
      "name": "python3",
      "display_name": "Python 3"
    },
    "language_info": {
      "name": "python"
    }
  },
  "cells": [
    {
      "cell_type": "markdown",
      "metadata": {
        "id": "view-in-github",
        "colab_type": "text"
      },
      "source": [
        "<a href=\"https://colab.research.google.com/github/sjdoescoding/CE156-Assignment/blob/main/Exercise%201/%20Final_Assignment_Exercise_1.ipynb\" target=\"_parent\"><img src=\"https://colab.research.google.com/assets/colab-badge.svg\" alt=\"Open In Colab\"/></a>"
      ]
    },
    {
      "cell_type": "markdown",
      "metadata": {
        "id": "NEmA4cFtAp8c"
      },
      "source": [
        "# Exercise 1\n",
        "Write a program that asks the user to input his/her date of birth in the format dd/mm/yyyy\n",
        "\n",
        "If the input is not in the correct format or the date is invalid, the program should output an appropriate error message. If the input is valid date the program should calculate and output the user's age (You will need to check whether the user has had a birthday this year, e.g. someone born on 01/11/2000 will be 21 on 16 December 2021, but someone born on 25/12/2000 will still be 20). The program should additionally output a \"Happy Birthday\" message if it is the user's birthday today.\n",
        "\n",
        "To calculate age you will need to obtain today's date; to do this using the line from datetime import date and then use date.today() to obtain a date object containing today's date. You can access the day, month and year of a date d using d.day,d.month and d.year (all integer values)"
      ]
    },
    {
      "cell_type": "code",
      "metadata": {
        "id": "pn5OJQoe_X8i",
        "colab": {
          "base_uri": "https://localhost:8080/"
        },
        "outputId": "a0af015e-0712-4b58-f183-41de638a635e"
      },
      "source": [
        "import datetime\n",
        "\n",
        "# Formula to calculate somebody's age = Current date/month/year - Birthday (date/month/year)\n",
        "# Output: Display user's age based off their birthday, if it is their birthday then wish user \"Happy Birthday\"\n",
        "\n",
        "# Initialize today's date\n",
        "today = date.today()\n",
        "\n",
        "\n",
        "#Try block to check if user's input is correct\n",
        "try:\n",
        "## Take user input as dd/mm/yyyy\n",
        "  birthday = input(\"When is your Birthday? (dd/mm/yyy) \")\n",
        "  birthdate = datetime.datetime.strptime(birthday, \"%d/%m/%Y\")\n",
        "\n",
        "    ## first function checks user's input if dd/mm matches current dd/mm, if match is found then output birthday message, else outputs not birthday message\n",
        "  def bdayMessage(birthdate):\n",
        "    if birthdate.day == today.day and birthdate.month == today.month:\n",
        "        print(\"Happy Birthday!\")\n",
        "    else:\n",
        "        print(\"It is not your birthday today :(\")\n",
        "\n",
        "  ## second function checks subtracts user's input from today's date, returning age\n",
        "  def calcAge(birthdate):\n",
        "    age = (today.year - birthdate.year) - ((today.month, today.day) < (birthdate.month, birthdate.day))  # A bool that represents if today's day/month precedes the birth day/month\n",
        "    #Checks if the user is older than 1 years old\n",
        "    if age > 1:\n",
        "      print(\"You are\", age, \"years old\") #  Output message: User's age.\n",
        "    elif age < 1 and birthdate.day > today.day: \n",
        "      return print(\"You were just born this year!\") # Outputs message if the user was just born this year\n",
        "    elif age == 1:\n",
        "      print(\"You are just a year old\") #  Outputs message if user is only 1 years old\n",
        "    elif (today.year - birthdate.year) - ((today.month, today.day) < (birthdate.month, birthdate.day)): # Outputs a message if the user inputs a date in the future later than today\n",
        "      print(\"You haven't been born yet!\")\n",
        "\n",
        "  bdayMessage(birthdate) # Calls first function\n",
        "  calcAge(birthdate) # Calls second fucntion\n",
        "\n",
        "# Exception raised when user inputs an invalid date or incorrect format\n",
        "except:\n",
        "  print(\"Invalid input, try inputting your date of birth as the format dd/mm/yyyy\")\n",
        "\n",
        "\n",
        "\n",
        "\n"
      ],
      "execution_count": null,
      "outputs": [
        {
          "output_type": "stream",
          "name": "stdout",
          "text": [
            "When is your Birthday? (dd/mm/yyy) 15/05/1998\n",
            "It is not your birthday today :(\n",
            "You are 23 years old\n"
          ]
        }
      ]
    }
  ]
}