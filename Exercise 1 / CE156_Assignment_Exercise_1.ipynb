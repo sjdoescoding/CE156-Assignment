{
  "nbformat": 4,
  "nbformat_minor": 0,
  "metadata": {
    "colab": {
      "name": "CE156 Assignment Exercise 1.ipynb",
      "provenance": [],
      "authorship_tag": "ABX9TyObMntmfWSFDi94M3e6dw/t",
      "include_colab_link": true
    },
    "kernelspec": {
      "name": "python3",
      "display_name": "Python 3"
    },
    "language_info": {
      "name": "python"
    }
  },
  "cells": [
    {
      "cell_type": "markdown",
      "metadata": {
        "id": "view-in-github",
        "colab_type": "text"
      },
      "source": [
        "<a href=\"https://colab.research.google.com/github/sjdoescoding/CE156-Assignment/blob/main/Exercise%201%20/%20CE156_Assignment_Exercise_1.ipynb\" target=\"_parent\"><img src=\"https://colab.research.google.com/assets/colab-badge.svg\" alt=\"Open In Colab\"/></a>"
      ]
    },
    {
      "cell_type": "markdown",
      "metadata": {
        "id": "NEmA4cFtAp8c"
      },
      "source": [
        "# Exercise 1\n",
        "Write a program that asks the user to input his/her date of birth in the format dd/mm/yyyy\n",
        "\n",
        "If the input is not in the correct format or the date is invalid, the program should output an appropriate error message. If the input is valid date the program should calculate and output the user's age (You will need to check whether the user has had a birthday this year, e.g. someone born on 01/11/2000 will be 21 on 16 December 2021, but someone born on 25/12/2000 will still be 20). The program should additionally output a \"Happy Birthday\" message if it is the user's birthday today.\n",
        "\n",
        "To calculate age you will need to obtain today's date; to do this using the line from datetime import date and then use date.today() to obtain a date object containing today's date. You can access the day, month and year of a date d using d.day,d.month and d.year (all integer values)"
      ]
    },
    {
      "cell_type": "code",
      "metadata": {
        "id": "pn5OJQoe_X8i"
      },
      "source": [
        "from datetime import datetime\n",
        "\n",
        "\n",
        "\n",
        "# Formula to calculate somebody's age = Current date/month/year - Birthday (date/month/year)\n",
        "# Output: Display user's age based off their birthday, if it is their birthday then wish user \"Happy Birthday\"\n",
        "\n",
        "\n",
        "## Take user input as dd/mm/yyyy\n",
        "birthday = input(\"What is your Birthday? (in DD/MM/YYYY) \")  \n",
        "birthdate = datetime.datetime.strptime(birthday,\"%d/%m/%Y\").date()  \n",
        "\n",
        "## first function checks user's input if dd/mm matches current dd/mm, if match is found then output birthday message\n",
        "## second function checks subtracts user's input from today's date, returning age\n",
        "## Output message: User's age and how many days old they are.\n",
        "\n",
        "# print(date.today())"
      ],
      "execution_count": null,
      "outputs": []
    }
  ]
}