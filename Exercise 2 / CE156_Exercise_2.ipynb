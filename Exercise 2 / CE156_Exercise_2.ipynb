{
  "nbformat": 4,
  "nbformat_minor": 0,
  "metadata": {
    "colab": {
      "name": "CE156 Exercise 2.ipynb",
      "provenance": [],
      "collapsed_sections": [],
      "authorship_tag": "ABX9TyPG+QiTEwRSwrcOtzEiMNMf",
      "include_colab_link": true
    },
    "kernelspec": {
      "name": "python3",
      "display_name": "Python 3"
    },
    "language_info": {
      "name": "python"
    }
  },
  "cells": [
    {
      "cell_type": "markdown",
      "metadata": {
        "id": "view-in-github",
        "colab_type": "text"
      },
      "source": [
        "<a href=\"https://colab.research.google.com/github/sjdoescoding/CE156-Assignment/blob/main/Exercise%202%20/%20CE156_Exercise_2.ipynb\" target=\"_parent\"><img src=\"https://colab.research.google.com/assets/colab-badge.svg\" alt=\"Open In Colab\"/></a>"
      ]
    },
    {
      "cell_type": "markdown",
      "metadata": {
        "id": "3UlNkG9wrnR5"
      },
      "source": [
        "#Exercise 2\n",
        "Write a function that returns a list of the prime numbers between two positive integers supplied as arguments. Use this in a program that asks the user to supply two positive intergers, checks that the input is valid, then calls the function and outputs the numbers in the returned list, with 10 numbers per output line.\n",
        "\n",
        "If the user enters negative numbers or supplies non-numeric input the program should output an appropriate error message; the two numbers should be accepted in either order. The range should be inclusive; if the user inputs 103 and 1009 (or 1009 and 103) these two numbers (which are both prime should be included in the output)"
      ]
    },
    {
      "cell_type": "code",
      "metadata": {
        "colab": {
          "base_uri": "https://localhost:8080/"
        },
        "id": "IHkITpOMrl2Z",
        "outputId": "e7bdd5d3-1b7e-49f7-8d52-5d1547262d1e"
      },
      "source": [
        "# Output: Print a list of prime numbers between two positive integers from which are supplied as arguments in a function\n",
        "# Input: Two positive integers as in function parameters\n",
        "# Checks: 1. Input is valid, 2. returns a list with 10 numbers per output line, 3. Range is inclusive, integers starting with prime numbers are shown\n",
        "# Error: Message should show if input is a negative number or non-numeric\n",
        "\n",
        "\n",
        "\n",
        "try:\n",
        "  pos1, pos2 = map(int,input(\"Enter two positive values: \").split(\" \")) # Takes user input for 2 positive integers, split method takes input as list with a space\n",
        "  lst1 = [] # Initialize empty list to return output\n",
        "  def is_prime(pos1,pos2): # Function to that takes positive integers as parameters\n",
        "      if pos1 < pos2: # if statement that takes a lower and then upper input\n",
        "            #Algorithm that checks if pos1 input is a prime number, if prime number it'll be appended to lst1\n",
        "            for i in range(pos1, pos2+1):  \n",
        "                if i > 1:  \n",
        "                    for j in range(2,i):  \n",
        "                        if (i % j == 0):  \n",
        "                            break  \n",
        "                    else:  \n",
        "                        lst1.append(i)\n",
        "            print(lst1)\n",
        "\n",
        "      else: # else statement if upper input is assigned first before positive input\n",
        "            #Similar algorithm like above, that returns the list output in reverse and appends the list to lst1\n",
        "            for i in range(pos1, pos2, -1):  \n",
        "                if i > 1:  \n",
        "                    for j in range(2,i):  \n",
        "                        if (i % j == 0):  \n",
        "                            break  \n",
        "                    else:  \n",
        "                        lst1.append(i)\n",
        "            print(lst1) \n",
        "\n",
        "\n",
        "  is_prime(pos1, pos2) #Calls the function \n",
        "\n",
        "\n",
        "except:\n",
        "    print(\"Invalid input, please enter two positive values with a space inbetween\")"
      ],
      "execution_count": 11,
      "outputs": [
        {
          "output_type": "stream",
          "name": "stdout",
          "text": [
            "Enter two positive values: yeet\n",
            "Invalid input, please enter two positive values with a space inbetween\n"
          ]
        }
      ]
    }
  ]
}