{
  "nbformat": 4,
  "nbformat_minor": 0,
  "metadata": {
    "colab": {
      "name": "CE156 Exercise 3.ipynb",
      "provenance": [],
      "collapsed_sections": [],
      "authorship_tag": "ABX9TyNiyP6qtm8iNRamxqodKWwT",
      "include_colab_link": true
    },
    "kernelspec": {
      "name": "python3",
      "display_name": "Python 3"
    },
    "language_info": {
      "name": "python"
    }
  },
  "cells": [
    {
      "cell_type": "markdown",
      "metadata": {
        "id": "view-in-github",
        "colab_type": "text"
      },
      "source": [
        "<a href=\"https://colab.research.google.com/github/sjdoescoding/CE156-Assignment/blob/main/Exercise%203%20/%20CE156_Exercise_3.ipynb\" target=\"_parent\"><img src=\"https://colab.research.google.com/assets/colab-badge.svg\" alt=\"Open In Colab\"/></a>"
      ]
    },
    {
      "cell_type": "markdown",
      "source": [
        "The three functions for this exercise should be written in a single .py file. You should not submit any code that calls the functions, although it is strongly recommended that you do produce such code in order to test your functions.\n",
        "\n",
        "a) Write a function that takes a string as parameter and returns True if and only if the string is a palindrome \n",
        "\n",
        "b) Write a function that takes a string as a parameter, converts the string to lower-case and returns the third most frequent letter. (if there are equally frequent letters you may return any one of the third most frequent letters.) Non-letters should be ignored\n",
        "\n",
        "c) Write a function that takes a string as a parameter, counts the numer of upper-case letters, lower-case letters and digits in the string and returns a tuple containig the three counts"
      ],
      "metadata": {
        "id": "huoOTzbZYXmg"
      }
    },
    {
      "cell_type": "markdown",
      "source": [
        "# Question 1\n"
      ],
      "metadata": {
        "id": "JS7L56Woow4J"
      }
    },
    {
      "cell_type": "code",
      "execution_count": null,
      "metadata": {
        "colab": {
          "base_uri": "https://localhost:8080/"
        },
        "id": "clEFVUgiYN_4",
        "outputId": "d197a99f-8208-489f-fd4a-371831ca2e92"
      },
      "outputs": [
        {
          "output_type": "execute_result",
          "data": {
            "text/plain": [
              "False"
            ]
          },
          "metadata": {},
          "execution_count": 126
        }
      ],
      "source": [
        "## A) Write a function that takes a string as parameter and returns True if and only if the string is a palindrome \n",
        "\n",
        "# palindrome = input(\"Please enter a Palindrome: \")\n",
        "\n",
        "def is_palindrome(palindrome):\n",
        "  if palindrome == palindrome[::-1]:\n",
        "    return True\n",
        "  else:\n",
        "    return False\n",
        "\n",
        "# is_palindrome(palindrome) # Remove call\n",
        "\n",
        "## B) Write a function that takes a string as parameter, converts the string to lower-case and returns the third most frequent letter. (If there are equally frequent letters you may return any one of the third most frequent letters.)\n",
        "## Non-letters should be ignored\n"
      ]
    },
    {
      "cell_type": "code",
      "source": [
        "## B) Write a function that takes a string as parameter, converts the string to lower-case and returns the third most frequent letter. (If there are equally frequent letters you may return any one of the third most frequent letters.)\n",
        "## Non-letters should be ignored\n",
        "from collections import Counter\n",
        "\n",
        "def to_lower_and_third(str1):\n",
        "  for i in str1:\n",
        "     third_most = list(Counter(str1).most_common(3))\n",
        "     print(\"The third most common letter in \", str1.lower(), third_most[2])\n",
        "     break\n",
        "\n",
        "to_lower_and_third(\"H3llo\")\n",
        "\n",
        "## Need to ignore non-letters"
      ],
      "metadata": {
        "colab": {
          "base_uri": "https://localhost:8080/"
        },
        "id": "O2ytuYm7rjYA",
        "outputId": "608901a5-8ca7-4166-b81e-3119e8f88823"
      },
      "execution_count": null,
      "outputs": [
        {
          "output_type": "stream",
          "name": "stdout",
          "text": [
            "The third most common letter in  h3llo ('3', 1)\n"
          ]
        }
      ]
    },
    {
      "cell_type": "code",
      "source": [
        "# Write a function that takes a string as a parameter, counts the number of upper-case letters, lower-case letters and digits in the string and returns a tuple containing the three counts \n",
        "\n",
        "\n",
        "def countString(x):\n",
        "  # Set counters to 0\n",
        "  upper_case = 0\n",
        "  lower_case = 0\n",
        "  number = 0\n",
        "\n",
        "  for i in x:\n",
        "    if i.isupper() == True: # If letter is upper-case, upper_case counter + 1\n",
        "      upper_case +=1\n",
        "\n",
        "    elif i.islower() == True: # If letter is lower-case, lower_case conunter +1\n",
        "      lower_case += 1\n",
        "      \n",
        "    elif i.isdigit() == True: # If position of string is a digit, number counter + 1\n",
        "      number +=1\n",
        "\n",
        "  t1 = (upper_case, lower_case, number) # Assign 3 counts to a tuple under var t1\n",
        "  print(t1)\n",
        "\n",
        "\n",
        "\n"
      ],
      "metadata": {
        "colab": {
          "base_uri": "https://localhost:8080/"
        },
        "id": "LqO98_4T5o9c",
        "outputId": "67f89bc4-fc50-4e69-b120-21f685830d2b"
      },
      "execution_count": 40,
      "outputs": [
        {
          "output_type": "stream",
          "name": "stdout",
          "text": [
            "(6, 4, 10)\n"
          ]
        }
      ]
    }
  ]
}