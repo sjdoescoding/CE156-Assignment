{
  "nbformat": 4,
  "nbformat_minor": 0,
  "metadata": {
    "colab": {
      "name": "CE156 Exercise 3.ipynb",
      "provenance": [],
      "collapsed_sections": [],
      "authorship_tag": "ABX9TyN70k97ElJm3KNg7anSxHI3",
      "include_colab_link": true
    },
    "kernelspec": {
      "name": "python3",
      "display_name": "Python 3"
    },
    "language_info": {
      "name": "python"
    }
  },
  "cells": [
    {
      "cell_type": "markdown",
      "metadata": {
        "id": "view-in-github",
        "colab_type": "text"
      },
      "source": [
        "<a href=\"https://colab.research.google.com/github/sjdoescoding/CE156-Assignment/blob/main/Exercise%203%20/%20CE156_Exercise_3.ipynb\" target=\"_parent\"><img src=\"https://colab.research.google.com/assets/colab-badge.svg\" alt=\"Open In Colab\"/></a>"
      ]
    },
    {
      "cell_type": "markdown",
      "source": [
        "The three functions for this exercise should be written in a single .py file. You should not submit any code that calls the functions, although it is strongly recommended that you do produce such code in order to test your functions.\n",
        "\n",
        "a) Write a function that takes a string as parameter and returns True if and only if the string is a palindrome \n",
        "\n",
        "b) Write a function that takes a string as a parameter, converts the string to lower-case and returns the third most frequent letter. (if there are equally frequent letters you may return any one of the third most frequent letters.) Non-letters should be ignored\n",
        "\n",
        "c) Write a function that takes a string as a parameter, counts the numer of upper-case letters, lower-case letters and digits in the string and returns a tuple containig the three counts"
      ],
      "metadata": {
        "id": "huoOTzbZYXmg"
      }
    },
    {
      "cell_type": "code",
      "execution_count": 6,
      "metadata": {
        "colab": {
          "base_uri": "https://localhost:8080/"
        },
        "id": "clEFVUgiYN_4",
        "outputId": "a64b3aac-60f5-454f-b24a-5cc06270e222"
      },
      "outputs": [
        {
          "output_type": "execute_result",
          "data": {
            "text/plain": [
              "True"
            ]
          },
          "metadata": {},
          "execution_count": 6
        }
      ],
      "source": [
        "## A) Write a function that takes a string as parameter and returns True if and only if the string is a palindrome \n",
        "\n",
        "def is_palindrome(palindrome):\n",
        "  if palindrome == palindrome[::-1]:\n",
        "    return True\n",
        "  else:\n",
        "    return False\n",
        "\n",
        "\n"
      ]
    },
    {
      "cell_type": "code",
      "source": [
        "## B) Write a function that takes a string as parameter, converts the string to lower-case and returns the third most frequent letter. (If there are equally frequent letters you may return any one of the third most frequent letters.)\n",
        "from collections import Counter # Import counter  \n",
        "\n",
        "def to_lower_and_third(str1):\n",
        "  str2 = str1.lower() # Converts string input to lower case\n",
        "  for i in str2: # iterates string\n",
        "\n",
        "  # lambda function to check whilst iterating if string input index [i] is a letter, if index [i] is not a letter, removes the non-letter and assigns it to no_num variable\n",
        "    no_num = \"\".join(filter(lambda x: x.isalpha(), str2))\n",
        "\n",
        "  # Imported Counter method to find the most common value, returns as a list size (3), selects 3rd [2] index of list which is the third most common letter, returns value into variable as [letter, count]\n",
        "    third_most = list(Counter(no_num).most_common(3)[2]) \n",
        "\n",
        "  print(\"The third most common letter in\", no_num, \"is\", third_most)\n",
        "\n"
      ],
      "metadata": {
        "colab": {
          "base_uri": "https://localhost:8080/"
        },
        "id": "oeDYVHrt-Rwt",
        "outputId": "cd04b784-c59d-49c3-f4f2-cb8ebab37e6f"
      },
      "execution_count": 50,
      "outputs": [
        {
          "output_type": "stream",
          "name": "stdout",
          "text": [
            "The third most common letter in hello is ['e', 1]\n"
          ]
        }
      ]
    },
    {
      "cell_type": "code",
      "source": [
        "# Write a function that takes a string as a parameter, counts the number of upper-case letters, lower-case letters and digits in the string and returns a tuple containing the three counts \n",
        "\n",
        "\n",
        "def countString(x):\n",
        "  # Set counters to 0\n",
        "  upper_case = 0\n",
        "  lower_case = 0\n",
        "  number = 0\n",
        "\n",
        "  for i in x:\n",
        "    if i.isupper() == True: # If letter is upper-case, upper_case counter + 1\n",
        "      upper_case +=1\n",
        "\n",
        "    elif i.islower() == True: # If letter is lower-case, lower_case conunter +1\n",
        "      lower_case += 1\n",
        "      \n",
        "    elif i.isdigit() == True: # If position of string is a digit, number counter + 1\n",
        "      number +=1\n",
        "\n",
        "  t1 = (upper_case, lower_case, number) # Assign 3 counts to a tuple under var t1\n",
        "  print(t1)\n",
        "\n",
        "\n",
        "\n"
      ],
      "metadata": {
        "colab": {
          "base_uri": "https://localhost:8080/"
        },
        "id": "LqO98_4T5o9c",
        "outputId": "3747d631-9d1f-4ea6-da59-8be2acad11e6"
      },
      "execution_count": 10,
      "outputs": [
        {
          "output_type": "stream",
          "name": "stdout",
          "text": [
            "(5, 3, 0)\n"
          ]
        }
      ]
    }
  ]
}