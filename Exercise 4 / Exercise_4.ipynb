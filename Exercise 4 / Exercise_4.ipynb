{
  "nbformat": 4,
  "nbformat_minor": 0,
  "metadata": {
    "colab": {
      "name": "Exercise 4.ipynb",
      "provenance": [],
      "collapsed_sections": [],
      "authorship_tag": "ABX9TyP2WXMkA+Sd4UboGry1aTx/",
      "include_colab_link": true
    },
    "kernelspec": {
      "name": "python3",
      "display_name": "Python 3"
    },
    "language_info": {
      "name": "python"
    }
  },
  "cells": [
    {
      "cell_type": "markdown",
      "metadata": {
        "id": "view-in-github",
        "colab_type": "text"
      },
      "source": [
        "<a href=\"https://colab.research.google.com/github/sjdoescoding/CE156-Assignment/blob/main/Exercise%204%20/%20Exercise_4.ipynb\" target=\"_parent\"><img src=\"https://colab.research.google.com/assets/colab-badge.svg\" alt=\"Open In Colab\"/></a>"
      ]
    },
    {
      "cell_type": "markdown",
      "source": [
        "Write a function that takes 2 arguments, a list of tuples and a string containing the name of a department. Each tuple in the string will contain the name, department and registration number of a student. The function should output the names and registration numbers of all students in the list whose department matches the string argument. The output should be displayed one student per line, sorted by registration number in a neatly formatted table. If there are no matches an appropriate message should be output.\n",
        "\n",
        "Write a program that asks the user to supply a file name and attempts to open a file. Each line of the file should contain the name, registration number and department of a student, separated by commas. A typical line may be \n",
        "\n",
        "```\n",
        "# Mike Sanderson, 2111111,CSEE\n",
        "```\n",
        "The program should convert the contents of each line into a tuple with 3 elements and add them to a list. (You may assume that the contents of the file are in the correct format so there is no need to perform validation). If the file cannot be opened the program should output an appropriate message and terminate.\n",
        "\n",
        "After the input of the file contents has been completed the program should output the list of tuples (no formatting required) then enter a loop in which the user is asked to supply the name of the department. The user input and list of tuples should be passed to a call to the function described above. After returning from the function the user should be asked if he/she wishes to quite or to supply the name of another department.\n",
        "\n",
        "Hint: the elements of the tuple do not have to be stored in the order described above. A different order may make the sorting easier. \n"
      ],
      "metadata": {
        "id": "hN4nmV5QW3uJ"
      }
    },
    {
      "cell_type": "code",
      "execution_count": 50,
      "metadata": {
        "id": "4c8KdkeMRZ-1",
        "colab": {
          "base_uri": "https://localhost:8080/"
        },
        "outputId": "387b8c6c-6552-4d91-bace-3df8fc9d8d8b"
      },
      "outputs": [
        {
          "output_type": "stream",
          "name": "stdout",
          "text": [
            "Please enter the name of the file you want to open: student.txt\n",
            "Please enter a Department: CSEE\n",
            "                Name  Registration Number Department\n",
            "0    Samuel Jularbal              1234567       CSEE\n",
            "1  Michael Sanderson              2111111       CSEE\n",
            "Would you like to see another Department?: (Y/N) Y\n",
            "Please enter a Department: Government\n",
            "            Name  Registration Number  Department\n",
            "0  Boris Johnson              2345678  Government\n",
            "1     Tony Blair              4567890  Government\n",
            "Would you like to see another Department?: (Y/N) N\n",
            "Goodbye\n"
          ]
        }
      ],
      "source": [
        "import pandas as pd # Import Pandas Library for neat table formatting of student tuples\n",
        "\n",
        "# Try/except block to catch errors when user inputs file name.\n",
        "try:\n",
        "\n",
        "  # User input to open the file\n",
        "  fileName = input(\"Please enter the name of the file you want to open: \") \n",
        "\n",
        "  #Opens the file ready for reading\n",
        "  with open(fileName, 'r+') as file: \n",
        "    lst1 = [(line.strip()).split(\",\") for line in file] # Converts each line that is read to a list and splits the values via comma\n",
        "    tup = [tuple(x) for x in lst1] # Converts lst1 to a list of tuples\n",
        "\n",
        "      ## Displays values as a tuple of 3 elements in a single list, separated by commas\n",
        "      # print(tup) \n",
        "\n",
        "except FileNotFoundError:\n",
        "  raise print(\"File not found, please enter a correct file name.\")\n",
        "  \n",
        "\n",
        "# Function to find students based off department input string\n",
        "## list of tuples as first argument, input string of department second argument\n",
        "def find_students(tup, department): \n",
        "\n",
        "    # Asks user input for department string\n",
        "    department = input(\"Please enter a Department: \")\n",
        "    ## First loop iterates over the list of tuples, second loop iterates over the nested tuple and checks \n",
        "    ## If a string(j) matches input string \"department\", save the found values to results variable\n",
        "    results = [i for i in tup for j in i if j == department]\n",
        "\n",
        "    ## Displays a list of tuples that match department input\n",
        "    # print(results) \n",
        "\n",
        "    ## Pandas Dataframe to table and sort the values\n",
        "    data = results # Assign results to data variable to work with Pandas\n",
        "    df = pd.DataFrame(data, columns=['Name', 'Registration Number', 'Department']) # Creates pandas DF with column headers\n",
        "    df['Registration Number'] = pd.to_numeric(df['Registration Number']) # Changes Reg Num from Str to Int\n",
        "    df = df.sort_values(by=['Registration Number']) # Sort values ascending by Reg Number\n",
        "    print(df)\n",
        "\n",
        "find_students(tup, department) \n",
        "\n",
        "\n",
        "# Loop that asks if user would like to see another department, if yes, then call find_students function\n",
        "## If user select no, then stop loop\n",
        "User_input = True\n",
        "while User_input == True:\n",
        "  ask_user = input(\"Would you like to see another Department?: (Y/N) \")\n",
        "  if ask_user == \"Y\":\n",
        "    find_students(tup, department)\n",
        "  elif ask_user == \"N\":\n",
        "    User_input = False\n",
        "    print(\"Goodbye\")\n",
        "  else: \n",
        "    print(\"Please enter either Y or N\")\n",
        "\n"
      ]
    },
    {
      "cell_type": "code",
      "source": [
        ""
      ],
      "metadata": {
        "id": "3lgzEC59Ftx7"
      },
      "execution_count": null,
      "outputs": []
    }
  ]
}