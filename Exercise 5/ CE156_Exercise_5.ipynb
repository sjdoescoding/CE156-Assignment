{
  "nbformat": 4,
  "nbformat_minor": 0,
  "metadata": {
    "colab": {
      "name": "CE156 Exercise 5.ipynb",
      "provenance": [],
      "collapsed_sections": [],
      "authorship_tag": "ABX9TyOnzD8PK56Xp9q+GTYgi8Hh",
      "include_colab_link": true
    },
    "kernelspec": {
      "name": "python3",
      "display_name": "Python 3"
    },
    "language_info": {
      "name": "python"
    }
  },
  "cells": [
    {
      "cell_type": "markdown",
      "metadata": {
        "id": "view-in-github",
        "colab_type": "text"
      },
      "source": [
        "<a href=\"https://colab.research.google.com/github/sjdoescoding/CE156-Assignment/blob/main/Exercise%205/%20CE156_Exercise_5.ipynb\" target=\"_parent\"><img src=\"https://colab.research.google.com/assets/colab-badge.svg\" alt=\"Open In Colab\"/></a>"
      ]
    },
    {
      "cell_type": "markdown",
      "source": [
        "# Exercise 5\n",
        "1. Write a program that will open a file, read the firs tline and create a 2-dimensional NumPy array, where number of rows is the number of students and each row has 4 elements (marks). Initialise this array using a call to the array function with an argument ([[0,0,0,0]])*n, where n is the number of students.\n",
        "\n",
        "2. The program should then read the remaining lines, line-by-line and use the input values to store in a row of the array the registration number, the exam mark, the average coursework mark and overall mark (calculated using the exam mark, the average coursework mark and the weighting.) You may assume that all lines will contain the correct number of marks and the number of students will match the number specified on the first line.\n",
        "\n",
        "3. Having generated the array, the program should then create another 1-dimensional array with n elements, but with a structured data type with 4 integers and one string as the components. (use a list containing multiple copies of a structure with default values (e.g. zeroes and an empty string) as the argument to array)\n",
        "\n",
        "4. From the data in each row of the first array the program should generate a structure containing the student's registration number, exam mark, coursework mark and total mark, all rounded to the nearest integer, and a grade string to be calculated using the rules below, and store this in the corresponding element in the second array. (You can round a real number n to the nearest integer using round(n)\n",
        "\n",
        "5. The program should then produce a version of the second array sorted by overall mark and output this array to a file (using a single call to the print function of the form print(array2, file=f)\n",
        "\n",
        "6. It should finally output to the screen/console the number of students who have first, second and third-class marks, the number of students who have failed and the registration of the students who have first-class marks.\n",
        "\n",
        "Rules for calculating grades\n",
        "Any student with a rounded mark of less than 30 for either the coursework average or the exam has \n",
        "failed, irrespective of the overall module mark. For all other students a rounded overall mark of 70 or \n",
        "more has a first-class grade, a rounded mark between 50 and 69 (inclusive) has a second-class grade, a \n",
        "rounded mark between 40 and 49 has a third-class grade, and a rounded mark below 40 fails"
      ],
      "metadata": {
        "id": "m6lAmAAAofG0"
      }
    },
    {
      "cell_type": "code",
      "execution_count": null,
      "metadata": {
        "colab": {
          "base_uri": "https://localhost:8080/"
        },
        "id": "pXHRNRCYnHQo",
        "outputId": "cc17d97c-3252-4f7a-84c3-50ed61a8b396"
      },
      "outputs": [
        {
          "output_type": "stream",
          "name": "stdout",
          "text": [
            "    Registration  Exam Mark  Coursework Average  Overall Mark       Grades\n",
            "87       2147897         99                  26            85  First Class\n",
            "71       2076307         99                  25            84  First Class\n",
            "93       2174630         99                  19            78  First Class\n",
            "72       2082765         99                  19            78  First Class\n",
            "63       2047582         99                  19            78  First Class\n",
            "..           ...        ...                 ...           ...          ...\n",
            "26       1897777         33                  13            33         Fail\n",
            "75       2084051         10                  26            32         Fail\n",
            "51       2005841          2                  26            27         Fail\n",
            "98       2197297          0                  19            19         Fail\n",
            "79       2124944          4                  17            19         Fail\n",
            "\n",
            "[100 rows x 5 columns] \n",
            "\n",
            "Second Class    52\n",
            "Third Class     19\n",
            "First Class     15\n",
            "Fail            14\n",
            "Name: Grades, dtype: int64\n",
            "\n",
            "The registration numbers of students with First Class Marks: [2147897, 2076307, 2174630, 2082765, 2047582, 2008256, 1916083, 2146744, 2057009, 1817640, 2006335, 1808372, 2134705, 2105494, 1978105]\n"
          ]
        }
      ],
      "source": [
        "## Import libraries\n",
        "import numpy as np\n",
        "import pandas as pd\n",
        "\n",
        "\n",
        "# Open file for reading\n",
        "with open('ex5data.txt', 'r') as file:\n",
        "    file.readline() # Reads the first line of the file\n",
        "    arr = [(line.strip()).split(\" \") for line in file] # Splits the files by line into lists\n",
        "    arr2 = np.array(arr) # Stores lists from arr to an array arr2\n",
        "  \n",
        "    \n",
        "    # Coursework = 40%, Exam = 60%\n",
        "    # i.e. 37 * 0.4 = 14.8, 93 * 0.6 = 55.8 \n",
        "    # overall mark = 14.8 + 55.8 = 70.6666\n",
        "    ## Finding the average coursework marks\n",
        "    arr3 = arr2[:,2:].astype(np.float) # Converts the final 3 columns (coursework marks) to float value\n",
        "    mean_coursework = arr3.mean(axis=1) # calculates the means between the coursework columns\n",
        "    mean_coursework = np.reshape(mean_coursework, (-1, 1)) # reshapes the coursework marks into a single 2d array column\n",
        "    weighted_coursework = mean_coursework * 0.4 # Multiply coursework by 40% to add weighting\n",
        "    rounded_weighted_coursework = np.rint(weighted_coursework) # Converts float value into int, rounded to nearest integer, may just keep it as float\n",
        "    \n",
        "\n",
        "\n",
        "    ## Converting Exam marks to float\n",
        "    exam = arr2[:,1:2:].astype(np.float) # Slices exam marks and converts it to float\n",
        "    exam = np.around(exam, decimals=0, out=None)\n",
        "    weighted_exam = exam * 0.6 # Multiply exam by 60% to add weighting \n",
        "    rounded_weighted_exam = np.rint(weighted_exam)\n",
        "\n",
        "\n",
        "    # Calculate overall mark with weightings\n",
        "    overall_mark = rounded_weighted_exam + rounded_weighted_coursework\n",
        "\n",
        "\n",
        "    # Creates new array\n",
        "    new_arr = np.concatenate((arr2[:,0:1], exam, rounded_weighted_coursework, overall_mark), axis =1)\n",
        "\n",
        "\n",
        "\n",
        "# Create Pandas df and input new_arr array, column headers ['Registration', Exam Mark', 'Coursework Average', 'Overall Mark']\n",
        "df = pd.DataFrame(new_arr, columns=['Registration', 'Exam Mark', 'Coursework Average','Overall Mark'])\n",
        "# Converts all values in dataframe to float, then converts all values to integer\n",
        "df = df.astype(float).astype(int)\n",
        "\n",
        "\n",
        "## Function that takes the argument row\n",
        "## if/elif statements checks if row in Overall Mark Column is equal to ranges given \n",
        "def match_grades(row):\n",
        "   if row['Overall Mark'] >= 70: # if overall mark column row is equal or greater than 70, return 'First Class'\n",
        "      return 'First Class'\n",
        "   elif row['Overall Mark'] < 70 and row['Overall Mark'] >= 50: # if overall mark column row is less than 70 and overall mark column is equal or greater than 50, return 'Second Class'\n",
        "      return 'Second Class'\n",
        "   elif row['Overall Mark'] < 50 and row['Overall Mark'] >= 40: # if overall mark column row is less than 50 and overall mark is equal or greater than 40, return 'Third class'\n",
        "      return 'Third Class'\n",
        "   elif row['Overall Mark'] < 40: # if overall mark column row is less than 40, return 'fail'\n",
        "      return 'Fail'\n",
        "\n",
        "## lambda function runs match_grades(row) method, and df.apply applies the return strings to the newly created df['Grades'] column \n",
        "df['Grades'] = df.apply(lambda row: match_grades(row), axis=1)\n",
        "\n",
        "# Sorts df from highest 'Overall Mark' to lowest\n",
        "df = df.sort_values('Overall Mark', ascending = False)\n",
        "\n",
        "# Prints DataFrame, with a new line for output clarity\n",
        "print(df, '\\n') \n",
        "\n",
        "\n",
        "# Converts df to numpy array, writes array to a file f\n",
        "array2 = df.to_numpy()\n",
        "with open(\"output.txt\", \"a+\") as f:\n",
        "  print(array2, file=f)\n",
        "\n",
        "# Outputs number of students with Second class, Thirs Class, First Class and Fail Marks\n",
        "print(df['Grades'].value_counts())\n",
        "\n",
        "# Outputting Registration numbers of students with First class marks\n",
        "empty_lst = [] # Initialize list to append Registration column\n",
        "for index, row in df.iterrows(): # Iterates rows of dataframe columns\n",
        "    if row[\"Grades\"] == 'First Class': # Checks if 'First Class' is in ['Grades']\n",
        "      empty_lst.append(row['Registration']) # Append Registration number to list if it matches 'First Class'\n",
        "\n",
        "      \n",
        "print('\\n' 'The registration numbers of students with First Class Marks:', empty_lst) # Registration number output\n"
      ]
    }
  ]
}